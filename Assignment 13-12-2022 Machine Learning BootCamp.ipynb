{
 "cells": [
  {
   "cell_type": "markdown",
   "id": "0122be6f",
   "metadata": {},
   "source": [
    "●\tWAP to accept two numbers from the user and display their sum"
   ]
  },
  {
   "cell_type": "code",
   "execution_count": 1,
   "id": "e36fe85b",
   "metadata": {},
   "outputs": [
    {
     "name": "stdout",
     "output_type": "stream",
     "text": [
      "Enter the number 1 :5\n",
      "Enter the number 2 :9\n",
      "The sum of 5 + 9 is 14 \n"
     ]
    }
   ],
   "source": [
    "num1 = int(input(\"Enter the number 1 :\"))\n",
    "num2 = int(input(\"Enter the number 2 :\"))\n",
    "sum = num1 + num2\n",
    "print(f\"The sum of {num1} + {num2} is {sum} \")"
   ]
  },
  {
   "cell_type": "markdown",
   "id": "f3ac949b",
   "metadata": {},
   "source": [
    "●\tWAP to accept radius of a Circle from the user and calculate area and circumference"
   ]
  },
  {
   "cell_type": "code",
   "execution_count": 2,
   "id": "75d0b1d0",
   "metadata": {},
   "outputs": [
    {
     "name": "stdout",
     "output_type": "stream",
     "text": [
      "Enter the radius of the Circle :5\n",
      "The area of the circle is 78.5 and the circumference of the circle is 31.400000000000002.\n"
     ]
    }
   ],
   "source": [
    "radius = float(input(\"Enter the radius of the Circle :\"))\n",
    "area = float(3.14*radius*radius)\n",
    "circumference = float(2*3.14*radius)\n",
    "\n",
    "print(f\"The area of the circle is {area} and the circumference of the circle is {circumference}.\")"
   ]
  },
  {
   "cell_type": "markdown",
   "id": "4f730549",
   "metadata": {},
   "source": [
    "●\tWAP to accept roll number , grade and percentage as input from the user and display it back"
   ]
  },
  {
   "cell_type": "code",
   "execution_count": 3,
   "id": "67914005",
   "metadata": {},
   "outputs": [
    {
     "name": "stdout",
     "output_type": "stream",
     "text": [
      "Enter the roll number : 4280\n",
      "Enter the Grade : 9.09\n",
      "Enter the Percentage : 91\n",
      "Your Roll Number is 4280 , you have secured 9.09 CGPA with 91.0 percentage.\n"
     ]
    }
   ],
   "source": [
    "roll_num = int(input(\"Enter the roll number : \"))\n",
    "grade = float(input(\"Enter the Grade : \"))\n",
    "percentage = float(input(\"Enter the Percentage : \"))\n",
    "\n",
    "print(f\"Your Roll Number is {roll_num} , you have secured {grade} CGPA with {percentage} percentage.\")"
   ]
  },
  {
   "cell_type": "markdown",
   "id": "4645a01a",
   "metadata": {},
   "source": [
    "\n",
    "●\tWrite a program that asks the user to enter his/her name and age. Print out a message , displaying the user’s name along with the year in which they will turn 100 years old.\n"
   ]
  },
  {
   "cell_type": "code",
   "execution_count": 4,
   "id": "e5516e3c",
   "metadata": {},
   "outputs": [
    {
     "name": "stdout",
     "output_type": "stream",
     "text": [
      "Enter Your Name : Sanjay\n",
      "Enter your Age :18\n",
      "Hey Sanjay your age is 18 and you will become 100 by 2104\n"
     ]
    }
   ],
   "source": [
    "Name = input(\"Enter Your Name : \")\n",
    "Age = int(input(\"Enter your Age :\"))\n",
    "\n",
    "year_to_100 = 2022 + (100-Age)\n",
    "print(f\"Hey {Name} your age is {Age} and you will become 100 by {year_to_100}\")"
   ]
  },
  {
   "cell_type": "markdown",
   "id": "6e41362c",
   "metadata": {},
   "source": [
    "\n",
    "●\tWrite a program that asks the user to input 2 integers and adds them . Accept both the numbers in a single line only\n"
   ]
  },
  {
   "cell_type": "code",
   "execution_count": 7,
   "id": "ebe1429f",
   "metadata": {},
   "outputs": [
    {
     "name": "stdout",
     "output_type": "stream",
     "text": [
      "Enter the two numbers : 9,8\n"
     ]
    },
    {
     "data": {
      "text/plain": [
       "17"
      ]
     },
     "execution_count": 7,
     "metadata": {},
     "output_type": "execute_result"
    }
   ],
   "source": [
    "num1 , num2 = input(\"Enter the two numbers : \").split(\",\")\n",
    "sum = int(num1) + int(num2)\n",
    "sum"
   ]
  },
  {
   "cell_type": "markdown",
   "id": "989ab892",
   "metadata": {},
   "source": [
    "●\tWrite a Python program which accepts the user's first and last name and print them in reverse order with a space between them."
   ]
  },
  {
   "cell_type": "code",
   "execution_count": 6,
   "id": "196ca908",
   "metadata": {},
   "outputs": [
    {
     "name": "stdout",
     "output_type": "stream",
     "text": [
      "Enter the first Name :sanju\n",
      "Enter the last Name :reddy\n"
     ]
    },
    {
     "data": {
      "text/plain": [
       "'ydder ujnas'"
      ]
     },
     "execution_count": 6,
     "metadata": {},
     "output_type": "execute_result"
    }
   ],
   "source": [
    "first_name = input(\"Enter the first Name :\")\n",
    "last_name = input(\"Enter the last Name :\")\n",
    "\n",
    "full_name = first_name + \" \" + last_name\n",
    "\n",
    "reverserd_name = full_name[::-1]\n",
    "reverserd_name"
   ]
  }
 ],
 "metadata": {
  "kernelspec": {
   "display_name": "Python 3 (ipykernel)",
   "language": "python",
   "name": "python3"
  },
  "language_info": {
   "codemirror_mode": {
    "name": "ipython",
    "version": 3
   },
   "file_extension": ".py",
   "mimetype": "text/x-python",
   "name": "python",
   "nbconvert_exporter": "python",
   "pygments_lexer": "ipython3",
   "version": "3.9.12"
  }
 },
 "nbformat": 4,
 "nbformat_minor": 5
}
